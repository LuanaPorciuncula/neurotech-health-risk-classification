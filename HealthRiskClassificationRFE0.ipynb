{
 "cells": [
  {
   "attachments": {},
   "cell_type": "markdown",
   "metadata": {},
   "source": [
    "# Abordagem de seleção de features RFE"
   ]
  },
  {
   "cell_type": "code",
   "execution_count": 1,
   "metadata": {},
   "outputs": [],
   "source": [
    "import pandas as pd \n",
    "import matplotlib.pyplot as plt\n",
    "from sklearn.ensemble import RandomForestClassifier\n",
    "from sklearn.feature_selection import RFE\n",
    "from sklearn.metrics import roc_auc_score, confusion_matrix\n",
    "from mlxtend.plotting import plot_confusion_matrix"
   ]
  },
  {
   "cell_type": "code",
   "execution_count": 2,
   "metadata": {},
   "outputs": [
    {
     "data": {
      "text/html": [
       "<div>\n",
       "<style scoped>\n",
       "    .dataframe tbody tr th:only-of-type {\n",
       "        vertical-align: middle;\n",
       "    }\n",
       "\n",
       "    .dataframe tbody tr th {\n",
       "        vertical-align: top;\n",
       "    }\n",
       "\n",
       "    .dataframe thead th {\n",
       "        text-align: right;\n",
       "    }\n",
       "</style>\n",
       "<table border=\"1\" class=\"dataframe\">\n",
       "  <thead>\n",
       "    <tr style=\"text-align: right;\">\n",
       "      <th></th>\n",
       "      <th>var1</th>\n",
       "      <th>var2</th>\n",
       "      <th>var3</th>\n",
       "      <th>var4</th>\n",
       "      <th>var5</th>\n",
       "      <th>var6</th>\n",
       "      <th>var7</th>\n",
       "      <th>var8</th>\n",
       "      <th>var9</th>\n",
       "      <th>var10</th>\n",
       "      <th>...</th>\n",
       "      <th>var992</th>\n",
       "      <th>var993</th>\n",
       "      <th>var994</th>\n",
       "      <th>var995</th>\n",
       "      <th>var996</th>\n",
       "      <th>var997</th>\n",
       "      <th>var998</th>\n",
       "      <th>var999</th>\n",
       "      <th>var1000</th>\n",
       "      <th>alvo</th>\n",
       "    </tr>\n",
       "  </thead>\n",
       "  <tbody>\n",
       "    <tr>\n",
       "      <th>0</th>\n",
       "      <td>2142.0</td>\n",
       "      <td>4397.0</td>\n",
       "      <td>8978.0</td>\n",
       "      <td>17329.0</td>\n",
       "      <td>25324.0</td>\n",
       "      <td>1515.0</td>\n",
       "      <td>3053.0</td>\n",
       "      <td>6295.0</td>\n",
       "      <td>12179.0</td>\n",
       "      <td>17714.0</td>\n",
       "      <td>...</td>\n",
       "      <td>0.00</td>\n",
       "      <td>0.00</td>\n",
       "      <td>0.00</td>\n",
       "      <td>0.00</td>\n",
       "      <td>0.00</td>\n",
       "      <td>0.00</td>\n",
       "      <td>3849.11</td>\n",
       "      <td>1.0</td>\n",
       "      <td>0</td>\n",
       "      <td>0</td>\n",
       "    </tr>\n",
       "    <tr>\n",
       "      <th>1</th>\n",
       "      <td>4230.0</td>\n",
       "      <td>8477.0</td>\n",
       "      <td>16253.0</td>\n",
       "      <td>31545.0</td>\n",
       "      <td>46576.0</td>\n",
       "      <td>3151.0</td>\n",
       "      <td>6286.0</td>\n",
       "      <td>12021.0</td>\n",
       "      <td>23391.0</td>\n",
       "      <td>34501.0</td>\n",
       "      <td>...</td>\n",
       "      <td>0.00</td>\n",
       "      <td>0.00</td>\n",
       "      <td>0.00</td>\n",
       "      <td>0.00</td>\n",
       "      <td>0.00</td>\n",
       "      <td>0.00</td>\n",
       "      <td>0.00</td>\n",
       "      <td>0.0</td>\n",
       "      <td>0</td>\n",
       "      <td>0</td>\n",
       "    </tr>\n",
       "    <tr>\n",
       "      <th>2</th>\n",
       "      <td>123016.0</td>\n",
       "      <td>253889.0</td>\n",
       "      <td>479469.0</td>\n",
       "      <td>949783.0</td>\n",
       "      <td>1423562.0</td>\n",
       "      <td>84625.0</td>\n",
       "      <td>173262.0</td>\n",
       "      <td>327248.0</td>\n",
       "      <td>648115.0</td>\n",
       "      <td>971543.0</td>\n",
       "      <td>...</td>\n",
       "      <td>2872.32</td>\n",
       "      <td>2872.32</td>\n",
       "      <td>1217.18</td>\n",
       "      <td>12423.70</td>\n",
       "      <td>21092.96</td>\n",
       "      <td>35177.31</td>\n",
       "      <td>66642.75</td>\n",
       "      <td>13.0</td>\n",
       "      <td>0</td>\n",
       "      <td>0</td>\n",
       "    </tr>\n",
       "    <tr>\n",
       "      <th>3</th>\n",
       "      <td>7646.0</td>\n",
       "      <td>15987.0</td>\n",
       "      <td>31309.0</td>\n",
       "      <td>60711.0</td>\n",
       "      <td>88139.0</td>\n",
       "      <td>5760.0</td>\n",
       "      <td>11899.0</td>\n",
       "      <td>23219.0</td>\n",
       "      <td>45452.0</td>\n",
       "      <td>66126.0</td>\n",
       "      <td>...</td>\n",
       "      <td>0.00</td>\n",
       "      <td>0.00</td>\n",
       "      <td>0.00</td>\n",
       "      <td>0.00</td>\n",
       "      <td>0.00</td>\n",
       "      <td>0.00</td>\n",
       "      <td>0.00</td>\n",
       "      <td>0.0</td>\n",
       "      <td>0</td>\n",
       "      <td>0</td>\n",
       "    </tr>\n",
       "    <tr>\n",
       "      <th>4</th>\n",
       "      <td>5442.0</td>\n",
       "      <td>10358.0</td>\n",
       "      <td>20710.0</td>\n",
       "      <td>40147.0</td>\n",
       "      <td>61672.0</td>\n",
       "      <td>1940.0</td>\n",
       "      <td>3900.0</td>\n",
       "      <td>7825.0</td>\n",
       "      <td>15161.0</td>\n",
       "      <td>22792.0</td>\n",
       "      <td>...</td>\n",
       "      <td>1045782.67</td>\n",
       "      <td>1645343.02</td>\n",
       "      <td>245300.63</td>\n",
       "      <td>514644.76</td>\n",
       "      <td>1628928.12</td>\n",
       "      <td>3211634.36</td>\n",
       "      <td>6019027.97</td>\n",
       "      <td>3940.0</td>\n",
       "      <td>0</td>\n",
       "      <td>0</td>\n",
       "    </tr>\n",
       "  </tbody>\n",
       "</table>\n",
       "<p>5 rows × 1001 columns</p>\n",
       "</div>"
      ],
      "text/plain": [
       "       var1      var2      var3      var4       var5     var6      var7  \\\n",
       "0    2142.0    4397.0    8978.0   17329.0    25324.0   1515.0    3053.0   \n",
       "1    4230.0    8477.0   16253.0   31545.0    46576.0   3151.0    6286.0   \n",
       "2  123016.0  253889.0  479469.0  949783.0  1423562.0  84625.0  173262.0   \n",
       "3    7646.0   15987.0   31309.0   60711.0    88139.0   5760.0   11899.0   \n",
       "4    5442.0   10358.0   20710.0   40147.0    61672.0   1940.0    3900.0   \n",
       "\n",
       "       var8      var9     var10  ...      var992      var993     var994  \\\n",
       "0    6295.0   12179.0   17714.0  ...        0.00        0.00       0.00   \n",
       "1   12021.0   23391.0   34501.0  ...        0.00        0.00       0.00   \n",
       "2  327248.0  648115.0  971543.0  ...     2872.32     2872.32    1217.18   \n",
       "3   23219.0   45452.0   66126.0  ...        0.00        0.00       0.00   \n",
       "4    7825.0   15161.0   22792.0  ...  1045782.67  1645343.02  245300.63   \n",
       "\n",
       "      var995      var996      var997      var998  var999  var1000  alvo  \n",
       "0       0.00        0.00        0.00     3849.11     1.0        0     0  \n",
       "1       0.00        0.00        0.00        0.00     0.0        0     0  \n",
       "2   12423.70    21092.96    35177.31    66642.75    13.0        0     0  \n",
       "3       0.00        0.00        0.00        0.00     0.0        0     0  \n",
       "4  514644.76  1628928.12  3211634.36  6019027.97  3940.0        0     0  \n",
       "\n",
       "[5 rows x 1001 columns]"
      ]
     },
     "execution_count": 2,
     "metadata": {},
     "output_type": "execute_result"
    }
   ],
   "source": [
    "# Obtendo dataset\n",
    "train_path = '../datasets/health/train.gz'\n",
    "test_path = '../datasets/health/test.gz'\n",
    "\n",
    "train_data = pd.read_csv(train_path, compression='gzip')\n",
    "test_data = pd.read_csv(test_path, compression='gzip')\n",
    "\n",
    "train_data.head()"
   ]
  },
  {
   "attachments": {},
   "cell_type": "markdown",
   "metadata": {},
   "source": [
    "## **Pré-processamento** do dataset"
   ]
  },
  {
   "cell_type": "code",
   "execution_count": 3,
   "metadata": {},
   "outputs": [],
   "source": [
    "def fill_mean(data):\n",
    "    df = data.fillna(data.mean())\n",
    "    y = df['alvo']\n",
    "    X = df.drop('alvo', axis=1)\n",
    "    return X, y"
   ]
  },
  {
   "cell_type": "code",
   "execution_count": 4,
   "metadata": {},
   "outputs": [],
   "source": [
    "train_X, train_y = fill_mean(train_data)\n",
    "test_X, test_y = fill_mean(test_data)"
   ]
  },
  {
   "attachments": {},
   "cell_type": "markdown",
   "metadata": {},
   "source": [
    "## Seleção de váriaveis"
   ]
  },
  {
   "cell_type": "code",
   "execution_count": 5,
   "metadata": {},
   "outputs": [],
   "source": [
    "rf_model = RandomForestClassifier()\n",
    "rfe = RFE(rf_model, n_features_to_select=100)"
   ]
  },
  {
   "cell_type": "code",
   "execution_count": 6,
   "metadata": {},
   "outputs": [
    {
     "data": {
      "text/html": [
       "<style>#sk-container-id-1 {color: black;background-color: white;}#sk-container-id-1 pre{padding: 0;}#sk-container-id-1 div.sk-toggleable {background-color: white;}#sk-container-id-1 label.sk-toggleable__label {cursor: pointer;display: block;width: 100%;margin-bottom: 0;padding: 0.3em;box-sizing: border-box;text-align: center;}#sk-container-id-1 label.sk-toggleable__label-arrow:before {content: \"▸\";float: left;margin-right: 0.25em;color: #696969;}#sk-container-id-1 label.sk-toggleable__label-arrow:hover:before {color: black;}#sk-container-id-1 div.sk-estimator:hover label.sk-toggleable__label-arrow:before {color: black;}#sk-container-id-1 div.sk-toggleable__content {max-height: 0;max-width: 0;overflow: hidden;text-align: left;background-color: #f0f8ff;}#sk-container-id-1 div.sk-toggleable__content pre {margin: 0.2em;color: black;border-radius: 0.25em;background-color: #f0f8ff;}#sk-container-id-1 input.sk-toggleable__control:checked~div.sk-toggleable__content {max-height: 200px;max-width: 100%;overflow: auto;}#sk-container-id-1 input.sk-toggleable__control:checked~label.sk-toggleable__label-arrow:before {content: \"▾\";}#sk-container-id-1 div.sk-estimator input.sk-toggleable__control:checked~label.sk-toggleable__label {background-color: #d4ebff;}#sk-container-id-1 div.sk-label input.sk-toggleable__control:checked~label.sk-toggleable__label {background-color: #d4ebff;}#sk-container-id-1 input.sk-hidden--visually {border: 0;clip: rect(1px 1px 1px 1px);clip: rect(1px, 1px, 1px, 1px);height: 1px;margin: -1px;overflow: hidden;padding: 0;position: absolute;width: 1px;}#sk-container-id-1 div.sk-estimator {font-family: monospace;background-color: #f0f8ff;border: 1px dotted black;border-radius: 0.25em;box-sizing: border-box;margin-bottom: 0.5em;}#sk-container-id-1 div.sk-estimator:hover {background-color: #d4ebff;}#sk-container-id-1 div.sk-parallel-item::after {content: \"\";width: 100%;border-bottom: 1px solid gray;flex-grow: 1;}#sk-container-id-1 div.sk-label:hover label.sk-toggleable__label {background-color: #d4ebff;}#sk-container-id-1 div.sk-serial::before {content: \"\";position: absolute;border-left: 1px solid gray;box-sizing: border-box;top: 0;bottom: 0;left: 50%;z-index: 0;}#sk-container-id-1 div.sk-serial {display: flex;flex-direction: column;align-items: center;background-color: white;padding-right: 0.2em;padding-left: 0.2em;position: relative;}#sk-container-id-1 div.sk-item {position: relative;z-index: 1;}#sk-container-id-1 div.sk-parallel {display: flex;align-items: stretch;justify-content: center;background-color: white;position: relative;}#sk-container-id-1 div.sk-item::before, #sk-container-id-1 div.sk-parallel-item::before {content: \"\";position: absolute;border-left: 1px solid gray;box-sizing: border-box;top: 0;bottom: 0;left: 50%;z-index: -1;}#sk-container-id-1 div.sk-parallel-item {display: flex;flex-direction: column;z-index: 1;position: relative;background-color: white;}#sk-container-id-1 div.sk-parallel-item:first-child::after {align-self: flex-end;width: 50%;}#sk-container-id-1 div.sk-parallel-item:last-child::after {align-self: flex-start;width: 50%;}#sk-container-id-1 div.sk-parallel-item:only-child::after {width: 0;}#sk-container-id-1 div.sk-dashed-wrapped {border: 1px dashed gray;margin: 0 0.4em 0.5em 0.4em;box-sizing: border-box;padding-bottom: 0.4em;background-color: white;}#sk-container-id-1 div.sk-label label {font-family: monospace;font-weight: bold;display: inline-block;line-height: 1.2em;}#sk-container-id-1 div.sk-label-container {text-align: center;}#sk-container-id-1 div.sk-container {/* jupyter's `normalize.less` sets `[hidden] { display: none; }` but bootstrap.min.css set `[hidden] { display: none !important; }` so we also need the `!important` here to be able to override the default hidden behavior on the sphinx rendered scikit-learn.org. See: https://github.com/scikit-learn/scikit-learn/issues/21755 */display: inline-block !important;position: relative;}#sk-container-id-1 div.sk-text-repr-fallback {display: none;}</style><div id=\"sk-container-id-1\" class=\"sk-top-container\"><div class=\"sk-text-repr-fallback\"><pre>RandomForestClassifier()</pre><b>In a Jupyter environment, please rerun this cell to show the HTML representation or trust the notebook. <br />On GitHub, the HTML representation is unable to render, please try loading this page with nbviewer.org.</b></div><div class=\"sk-container\" hidden><div class=\"sk-item\"><div class=\"sk-estimator sk-toggleable\"><input class=\"sk-toggleable__control sk-hidden--visually\" id=\"sk-estimator-id-1\" type=\"checkbox\" checked><label for=\"sk-estimator-id-1\" class=\"sk-toggleable__label sk-toggleable__label-arrow\">RandomForestClassifier</label><div class=\"sk-toggleable__content\"><pre>RandomForestClassifier()</pre></div></div></div></div></div>"
      ],
      "text/plain": [
       "RandomForestClassifier()"
      ]
     },
     "execution_count": 6,
     "metadata": {},
     "output_type": "execute_result"
    }
   ],
   "source": [
    "X_train_rfe = rfe.fit_transform(train_X, train_y)\n",
    "X_test_rfe = rfe.transform(test_X)\n",
    "rf_model.fit(X_train_rfe, train_y)"
   ]
  },
  {
   "cell_type": "code",
   "execution_count": 13,
   "metadata": {},
   "outputs": [
    {
     "name": "stdout",
     "output_type": "stream",
     "text": [
      "Index(['var265', 'var270', 'var271', 'var272', 'var286', 'var287', 'var288',\n",
      "       'var290', 'var291', 'var293', 'var294', 'var297', 'var298', 'var300',\n",
      "       'var312', 'var316', 'var331', 'var332', 'var333', 'var334', 'var342',\n",
      "       'var346', 'var347', 'var388', 'var397', 'var398', 'var408', 'var457',\n",
      "       'var458', 'var509', 'var510', 'var511', 'var514', 'var515', 'var516',\n",
      "       'var532', 'var534', 'var537', 'var541', 'var542', 'var557', 'var558',\n",
      "       'var572', 'var573', 'var574', 'var575', 'var577', 'var579', 'var587',\n",
      "       'var607', 'var615', 'var617', 'var618', 'var691', 'var692', 'var693',\n",
      "       'var695', 'var696', 'var699', 'var700', 'var701', 'var704', 'var705',\n",
      "       'var706', 'var714', 'var715', 'var716', 'var717', 'var718', 'var721',\n",
      "       'var724', 'var725', 'var888', 'var889', 'var890', 'var940', 'var970',\n",
      "       'var971', 'var972', 'var973', 'var974', 'var975', 'var976', 'var977',\n",
      "       'var978', 'var980', 'var981', 'var982', 'var983', 'var985', 'var986',\n",
      "       'var987', 'var988', 'var993', 'var995', 'var996', 'var997', 'var998',\n",
      "       'var999', 'var1000'],\n",
      "      dtype='object')\n"
     ]
    }
   ],
   "source": [
    "selected_features = train_X.columns[rfe.support_]\n",
    "print(selected_features)"
   ]
  },
  {
   "cell_type": "code",
   "execution_count": null,
   "metadata": {},
   "outputs": [],
   "source": [
    "def print_confusion_matrix(cm):\n",
    "\n",
    "  fig, ax = plot_confusion_matrix(conf_mat=cm, colorbar=True, figsize=(5, 5), cmap='Greys', show_absolute=True, show_normed=True)\n",
    "  ax.set_title(\"Confusion Matrix\")\n",
    "  plt.show()"
   ]
  },
  {
   "cell_type": "code",
   "execution_count": null,
   "metadata": {},
   "outputs": [],
   "source": [
    "train_predict_proba = rf_model.predict_proba(X_train_rfe)[:, 1]\n",
    "test_predict_proba = rf_model.predict_proba(X_test_rfe)[:, 1]"
   ]
  },
  {
   "cell_type": "code",
   "execution_count": 8,
   "metadata": {},
   "outputs": [
    {
     "name": "stdout",
     "output_type": "stream",
     "text": [
      "Área Sob a Curva ROC (Treino): 1.0\n",
      "Área Sob a Curva ROC (Teste): 1.0\n",
      "Matriz de Confusão (Treino):\n"
     ]
    },
    {
     "data": {
      "image/png": "[encoded data removed]",
      "text/plain": [
       "<Figure size 500x500 with 2 Axes>"
      ]
     },
     "metadata": {},
     "output_type": "display_data"
    },
    {
     "name": "stdout",
     "output_type": "stream",
     "text": [
      "Matriz de Confusão (Teste):\n"
     ]
    },
    {
     "data": {
      "image/png": "[encoded data removed]",
      "text/plain": [
       "<Figure size 500x500 with 2 Axes>"
      ]
     },
     "metadata": {},
     "output_type": "display_data"
    }
   ],
   "source": [
    "roc_auc_treino = roc_auc_score(train_y, train_predict_proba)\n",
    "roc_auc_teste = roc_auc_score(test_y, test_predict_proba)\n",
    "print(\"Área Sob a Curva ROC (Treino):\", roc_auc_treino)\n",
    "print(\"Área Sob a Curva ROC (Teste):\", roc_auc_teste)\n",
    "matriz_confusao_treino = confusion_matrix(train_y, train_predict_proba > 0.5)\n",
    "matriz_confusao_teste = confusion_matrix(test_y, test_predict_proba > 0.5)\n",
    "\n",
    "print(\"Matriz de Confusão (Treino):\")\n",
    "print_confusion_matrix(matriz_confusao_treino)\n",
    "print(\"Matriz de Confusão (Teste):\")\n",
    "print_confusion_matrix(matriz_confusao_teste)"
   ]
  }
 ],
 "metadata": {
  "kernelspec": {
   "display_name": "Python 3",
   "language": "python",
   "name": "python3"
  },
  "language_info": {
   "codemirror_mode": {
    "name": "ipython",
    "version": 3
   },
   "file_extension": ".py",
   "mimetype": "text/x-python",
   "name": "python",
   "nbconvert_exporter": "python",
   "pygments_lexer": "ipython3",
   "version": "3.11.0"
  },
  "orig_nbformat": 4
 },
 "nbformat": 4,
 "nbformat_minor": 2
}
